{
 "cells": [
  {
   "cell_type": "code",
   "execution_count": 1,
   "id": "a03fa6a6",
   "metadata": {},
   "outputs": [
    {
     "name": "stdout",
     "output_type": "stream",
     "text": [
      "Memory usage of dataframe is 27.57 MB\n",
      "Memory usage after optimization is: 12.87 MB\n",
      "Decreased by 53.3%\n",
      "Memory usage of dataframe is 5.61 MB\n",
      "Memory usage after optimization is: 2.49 MB\n",
      "Decreased by 55.6%\n",
      "Memory usage of dataframe is 19.05 MB\n",
      "Memory usage after optimization is: 8.73 MB\n",
      "Decreased by 54.2%\n"
     ]
    }
   ],
   "source": [
    "import pandas as pd\n",
    "import numpy as np\n",
    "from sklearn.model_selection import train_test_split\n",
    "from sklearn.preprocessing import StandardScaler, OneHotEncoder\n",
    "from sklearn.compose import ColumnTransformer\n",
    "from sklearn.pipeline import Pipeline\n",
    "import torch\n",
    "from torch.utils.data import TensorDataset, DataLoader\n",
    "import os\n",
    "\n",
    "# Define a function to reduce DataFrame memory footprint\n",
    "def reduce_mem_usage(df):\n",
    "    \"\"\" Iterate through all the columns of a DataFrame and modify the data type\n",
    "        to reduce memory usage.\n",
    "    \"\"\"\n",
    "    start_mem = df.memory_usage().sum() / 1024**2\n",
    "    print(f'Memory usage of dataframe is {start_mem:.2f} MB')\n",
    "    \n",
    "    for col in df.columns:\n",
    "        col_type = df[col].dtype\n",
    "        \n",
    "        if col_type != object:\n",
    "            c_min = df[col].min()\n",
    "            c_max = df[col].max()\n",
    "            if pd.api.types.is_float_dtype(col_type):\n",
    "                if c_min > np.finfo(np.float32).min and c_max < np.finfo(np.float32).max:\n",
    "                    df[col] = df[col].astype(np.float32)\n",
    "            elif pd.api.types.is_integer_dtype(col_type):\n",
    "                if c_min > np.iinfo(np.int32).min and c_max < np.iinfo(np.int32).max:\n",
    "                    df[col] = df[col].astype(np.int32)\n",
    "                elif c_min > np.iinfo(np.int16).min and c_max < np.iinfo(np.int16).max:\n",
    "                    df[col] = df[col].astype(np.int16)\n",
    "                elif c_min > np.iinfo(np.int8).min and c_max < np.iinfo(np.int8).max:\n",
    "                    df[col] = df[col].astype(np.int8)\n",
    "        else:\n",
    "            df[col] = df[col].astype('category')\n",
    "\n",
    "    end_mem = df.memory_usage().sum() / 1024**2\n",
    "    print(f'Memory usage after optimization is: {end_mem:.2f} MB')\n",
    "    print(f'Decreased by {(100 * (start_mem - end_mem) / start_mem):.1f}%')\n",
    "    \n",
    "    return df\n",
    "\n",
    "# Load and optimize datasets\n",
    "game_df = reduce_mem_usage(pd.read_csv(os.path.join('csv','game.csv')))\n",
    "other_stats_df = reduce_mem_usage(pd.read_csv(os.path.join('csv','other_stats.csv')))\n",
    "line_score_df = reduce_mem_usage(pd.read_csv(os.path.join('csv','line_score.csv')))\n"
   ]
  },
  {
   "cell_type": "code",
   "execution_count": 2,
   "id": "de58df77",
   "metadata": {},
   "outputs": [],
   "source": [
    "# # Load datasets\n",
    "# game_df = pd.read_csv(os.path.join('csv','game.csv'))\n",
    "# player_df = pd.read_csv(os.path.join('csv','player.csv'))\n",
    "# other_stats_df = pd.read_csv(os.path.join('csv','other_stats.csv'))\n",
    "# line_score_df = pd.read_csv(os.path.join('csv','line_score.csv'))\n",
    "# Merge datasets based on 'game_id', 'team_id_home', and 'team_id_away'\n",
    "merged_df = pd.merge(game_df, other_stats_df, on=[\"game_id\", \"team_id_home\", \"team_id_away\"])\n",
    "merged_df = pd.merge(merged_df, line_score_df, on=[\"game_id\", \"team_id_home\", \"team_id_away\"])\n",
    "\n",
    "# Check and clean duplicated columns\n",
    "merged_df = merged_df.loc[:,~merged_df.columns.duplicated()]\n"
   ]
  },
  {
   "cell_type": "code",
   "execution_count": 3,
   "id": "38575e50",
   "metadata": {},
   "outputs": [],
   "source": [
    "# Assuming 'pts_home_x' refers to the game file and 'pts_home_y' refers to the line score file, and they should be identical\n",
    "assert (merged_df['pts_home_x'] == merged_df['pts_home_y']).all(), \"Point columns differ and need inspection.\"\n",
    "\n",
    "# Drop the redundant column if they are identical\n",
    "merged_df.drop('pts_home_y', axis=1, inplace=True)\n",
    "merged_df.rename(columns={'pts_home_x': 'pts_home'}, inplace=True)"
   ]
  },
  {
   "cell_type": "code",
   "execution_count": 4,
   "id": "eb3466cd",
   "metadata": {},
   "outputs": [],
   "source": [
    "# Fill numerical columns with the mean\n",
    "numerical_cols = merged_df.select_dtypes(include=[np.number]).columns\n",
    "merged_df[numerical_cols] = merged_df[numerical_cols].fillna(merged_df[numerical_cols].mean())\n",
    "\n",
    "# Fill categorical columns with the mode\n",
    "categorical_cols = merged_df.select_dtypes(include=['object']).columns\n",
    "for col in categorical_cols:\n",
    "    merged_df[col] = merged_df[col].fillna(merged_df[col].mode()[0])"
   ]
  },
  {
   "cell_type": "code",
   "execution_count": 5,
   "id": "6ba4a603",
   "metadata": {},
   "outputs": [],
   "source": [
    "# Define columns to be encoded and scaled\n",
    "categorical_features = ['team_abbreviation_home', 'team_abbreviation_away', 'season_type']\n",
    "numerical_features = list(numerical_cols)\n",
    "numerical_features.remove('pts_home')  # Remove target variable from scaling\n",
    "\n",
    "# Create a transformer for scaling and encoding\n",
    "preprocessor = ColumnTransformer(\n",
    "    transformers=[\n",
    "        ('num', StandardScaler(), numerical_features),\n",
    "        ('cat', OneHotEncoder(), categorical_features)\n",
    "    ])\n",
    "\n",
    "# Configure pipeline with preprocessing and a dummy estimator\n",
    "pipe = Pipeline(steps=[('preprocessor', preprocessor)])\n",
    "\n",
    "# Fit and transform the data\n",
    "X_transformed = pipe.fit_transform(merged_df.drop('pts_home', axis=1))\n",
    "y = merged_df['pts_home'].values\n"
   ]
  },
  {
   "cell_type": "code",
   "execution_count": null,
   "id": "ac92fc2a",
   "metadata": {},
   "outputs": [],
   "source": [
    "# Convert arrays to PyTorch tensors\n",
    "X_tensor = torch.tensor(X_transformed.astype(np.float32))\n",
    "y_tensor = torch.tensor(y.astype(np.float32))\n",
    "\n",
    "# Create a TensorDataset\n",
    "dataset = TensorDataset(X_tensor, y_tensor)\n",
    "\n",
    "# Split the dataset into training (80%), validation (10%), and test (10%) sets\n",
    "train_dataset, temp_dataset = train_test_split(dataset, test_size=0.2, random_state=42)\n",
    "valid_dataset, test_dataset = train_test_split(temp_dataset, test_size=0.5, random_state=42)\n",
    "\n",
    "# Create DataLoaders\n",
    "batch_size = 64\n",
    "train_loader = DataLoader(train_dataset, batch_size=batch_size, shuffle=True)\n",
    "valid_loader = DataLoader(valid_dataset, batch_size=batch_size, shuffle=False)\n",
    "test_loader = DataLoader(test_dataset, batch_size=batch_size, shuffle=False)"
   ]
  },
  {
   "cell_type": "code",
   "execution_count": null,
   "id": "015c090a",
   "metadata": {},
   "outputs": [],
   "source": []
  }
 ],
 "metadata": {
  "kernelspec": {
   "display_name": "Python 3 (ipykernel)",
   "language": "python",
   "name": "python3"
  },
  "language_info": {
   "codemirror_mode": {
    "name": "ipython",
    "version": 3
   },
   "file_extension": ".py",
   "mimetype": "text/x-python",
   "name": "python",
   "nbconvert_exporter": "python",
   "pygments_lexer": "ipython3",
   "version": "3.11.4"
  }
 },
 "nbformat": 4,
 "nbformat_minor": 5
}
